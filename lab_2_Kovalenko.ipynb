{
 "cells": [
  {
   "cell_type": "markdown",
   "id": "e7ebd14f-6e9d-476d-956c-95e9c978461f",
   "metadata": {},
   "source": [
    "### Лабораторна робота №2\n",
    "__Мета__ _навчитися писати і запускати найпростіші програми на Python з використанням функції `print()`_\n",
    "1. Змінила код програми, який має вигляд, як очікуваний результат:\n"
   ]
  },
  {
   "cell_type": "markdown",
   "id": "4e9b3cd0-d0c5-4db5-841e-addd44776679",
   "metadata": {},
   "source": [
    "`Programming***Essentials***in...Python`"
   ]
  },
  {
   "cell_type": "code",
   "execution_count": 6,
   "id": "99274589-cae5-495c-892a-aabe8157095d",
   "metadata": {},
   "outputs": [
    {
     "name": "stdout",
     "output_type": "stream",
     "text": [
      "Programming***Essentials***in***Python\n"
     ]
    }
   ],
   "source": [
    "print(\"Programming\" + \"***\" + \"Essentials\" + \"***\" + \"in\" + \"***Python\")"
   ]
  },
  {
   "cell_type": "markdown",
   "id": "55337f33-e233-49fa-b457-3243d864de04",
   "metadata": {},
   "source": [
    "2. Написала програму, яка виводить таку ж стрілку, яка показана у методичці."
   ]
  },
  {
   "cell_type": "code",
   "execution_count": 3,
   "id": "fc64c822-5038-4d85-b50e-01f3736ac378",
   "metadata": {},
   "outputs": [
    {
     "name": "stdout",
     "output_type": "stream",
     "text": [
      "    *    \n",
      "   * *   \n",
      "  *   *  \n",
      " *     * \n",
      "***   ***\n",
      "  *   *  \n",
      "  *   *  \n",
      "  *   *  \n",
      "  *****  \n"
     ]
    }
   ],
   "source": [
    "print(\"    *    \")\n",
    "print(\"   * *   \")\n",
    "print(\"  *   *  \")\n",
    "print(\" *     * \")\n",
    "print(\"***   ***\")\n",
    "print(\"  *   *  \")\n",
    "print(\"  *   *  \")\n",
    "print(\"  *   *  \")\n",
    "print(\"  *****  \")"
   ]
  },
  {
   "cell_type": "markdown",
   "id": "05125fa1-caf3-4f69-9ff1-9721a1dfd71f",
   "metadata": {},
   "source": [
    "3. Код який виводить на екран:"
   ]
  },
  {
   "cell_type": "code",
   "execution_count": 5,
   "id": "3afd2f91-c577-47f0-a23e-a3a42ad96ee0",
   "metadata": {},
   "outputs": [
    {
     "name": "stdout",
     "output_type": "stream",
     "text": [
      "I'm student\n"
     ]
    }
   ],
   "source": [
    "print(\"I'm student\")"
   ]
  },
  {
   "cell_type": "markdown",
   "id": "b888a2e0-83ab-4dc4-b3fe-36691e1d7ef5",
   "metadata": {},
   "source": [
    "4. Написала фрагмент коду в один рядок, з використанням `print()` "
   ]
  },
  {
   "cell_type": "code",
   "execution_count": 4,
   "id": "cbde97c3-3411-43cc-b609-4d386334b221",
   "metadata": {},
   "outputs": [
    {
     "name": "stdout",
     "output_type": "stream",
     "text": [
      "\"I'm\"\n",
      "\"\"learning\"\"\n",
      "\"\"\"Python\"\"\"\n"
     ]
    }
   ],
   "source": [
    "print('\"I\\'m\"\\n\\\"\\\"learning\\\"\\\"\\n\\\"\\\"\\\"Python\\\"\\\"\\\"')"
   ]
  },
  {
   "cell_type": "markdown",
   "id": "f6b451be-9eb8-4728-8288-d07ecb6aec6c",
   "metadata": {},
   "source": [
    "5. В десятковій системі $500_8$ дорівнює 320."
   ]
  },
  {
   "cell_type": "code",
   "execution_count": 7,
   "id": "f505644a-73af-42cb-9510-9896fc822a67",
   "metadata": {},
   "outputs": [
    {
     "name": "stdout",
     "output_type": "stream",
     "text": [
      "The decimal equivalent of 500 is 320\n"
     ]
    }
   ],
   "source": [
    "def octal_to_decimal(octal_num):\n",
    "    decimal_num = int(octal_num, 8)\n",
    "    return decimal_num\n",
    "octal_num = \"500\"\n",
    "decimal_num = octal_to_decimal(octal_num)\n",
    "print(f\"The decimal equivalent of {octal_num} is {decimal_num}\")"
   ]
  },
  {
   "cell_type": "markdown",
   "id": "215c7825-0186-445e-a221-9d4545dc0539",
   "metadata": {},
   "source": [
    "6. В десятковій системі $777_{16}$ дорівнює 1911."
   ]
  },
  {
   "cell_type": "code",
   "execution_count": 8,
   "id": "6e2ac93a-43cd-4cc2-82a8-cf21a202d93d",
   "metadata": {},
   "outputs": [
    {
     "name": "stdout",
     "output_type": "stream",
     "text": [
      "The decimal equivalent of 777 is 1911\n"
     ]
    }
   ],
   "source": [
    "def hex_to_decimal(hex_num):\n",
    "    decimal_num = int(hex_num, 16)\n",
    "    return decimal_num\n",
    "hex_num = \"777\"\n",
    "decimal_num = hex_to_decimal(hex_num)\n",
    "print(f\"The decimal equivalent of {hex_num} is {decimal_num}\")"
   ]
  },
  {
   "cell_type": "markdown",
   "id": "b3e5b523-395f-426b-86e2-af54d883d847",
   "metadata": {},
   "source": [
    "### Контрольні запитання \n",
    "1.Записати ієрархію операторів.\n",
    "1) Оператори доступу елементів `[]`, `.` — мають найвищий пріорітет. Вони використовуються для доступу до елементів таких як: списки, кортежі, словники та атрибутів об'єктів.\n",
    "1) Оператори виклику функції `()`— використовуються для виклику функції та методів.\n",
    "1) Оператори унарні `+`, `-`, `~`, `not` — діють на операнд.\n",
    "1) Оператори множення та ділення `*`, `/`, `//`, `%` — використовуються до операцій додавання та віднімання.\n",
    "1) Оператори зсуву `<<`, `>>` — використовуються для бітових зсувів.\n",
    "1) Оператори бітових І, АБО, виключене АБО `&`, `^`, `|`\n",
    "1) Оператори порівняння `==`, `!=`, `<`, `>`, `<=`, `>=`\n",
    "1) Оператори приналежності `in`, `not in`\n",
    "1) Логічні оператори `and`, `or`\n",
    "1) Оператори присвоєння `=` — має найнижчий пріорітет."
   ]
  },
  {
   "cell_type": "markdown",
   "id": "87237bbd-b5a3-4355-9a81-ef35f96e5c05",
   "metadata": {},
   "source": [
    "Приклад:"
   ]
  },
  {
   "cell_type": "code",
   "execution_count": 9,
   "id": "c2eb77ec-b8c8-4073-ada0-a9e4e50b4fa7",
   "metadata": {},
   "outputs": [
    {
     "name": "stdout",
     "output_type": "stream",
     "text": [
      "34\n"
     ]
    }
   ],
   "source": [
    "x = 18 + ( 67 * 3 ) // 12\n",
    "print(x)"
   ]
  },
  {
   "cell_type": "markdown",
   "id": "fba5e5e6-9078-44eb-9b42-702cc9c2e5c8",
   "metadata": {},
   "source": [
    "2. Записти на Python обчислення виразу $3^{3^4}$"
   ]
  },
  {
   "cell_type": "code",
   "execution_count": 10,
   "id": "c715d272-e9a2-475d-a705-a8b12581fdf4",
   "metadata": {},
   "outputs": [
    {
     "name": "stdout",
     "output_type": "stream",
     "text": [
      "443426488243037769948249630619149892803\n"
     ]
    }
   ],
   "source": [
    "result = 3 ** (3 ** 4)\n",
    "print(result)"
   ]
  },
  {
   "cell_type": "markdown",
   "id": "a256eea7-0e38-46e6-a4aa-b6ac8759b113",
   "metadata": {},
   "source": [
    "3. Що робить escape-символ при виводі на екран функцією print()?\n",
    "   \n",
    "   Escape-символи у функції `print()` використовуються для вставки спеціальних символів у рядок."
   ]
  }
 ],
 "metadata": {
  "kernelspec": {
   "display_name": "Python 3 (ipykernel)",
   "language": "python",
   "name": "python3"
  },
  "language_info": {
   "codemirror_mode": {
    "name": "ipython",
    "version": 3
   },
   "file_extension": ".py",
   "mimetype": "text/x-python",
   "name": "python",
   "nbconvert_exporter": "python",
   "pygments_lexer": "ipython3",
   "version": "3.12.4"
  }
 },
 "nbformat": 4,
 "nbformat_minor": 5
}
